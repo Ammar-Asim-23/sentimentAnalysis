{
 "cells": [
  {
   "cell_type": "markdown",
   "metadata": {},
   "source": [
    "Import Necessary Modules"
   ]
  },
  {
   "cell_type": "code",
   "execution_count": 102,
   "metadata": {},
   "outputs": [],
   "source": [
    "import numpy as np\n",
    "import pandas as pd\n",
    "from nltk.sentiment.vader import SentimentIntensityAnalyzer as SIA\n",
    "import seaborn as sns\n",
    "import matplotlib.pyplot as plt\n",
    "%matplotlib inline\n"
   ]
  },
  {
   "cell_type": "markdown",
   "metadata": {},
   "source": [
    "Load The Headlines"
   ]
  },
  {
   "cell_type": "code",
   "execution_count": 103,
   "metadata": {},
   "outputs": [],
   "source": [
    "headlines = pd.read_csv('redditData/headlines.csv' , index_col=None).to_numpy()"
   ]
  },
  {
   "cell_type": "code",
   "execution_count": 104,
   "metadata": {},
   "outputs": [
    {
     "name": "stdout",
     "output_type": "stream",
     "text": [
      "[['Biden Appointees Just Made It Easier For Workers To Form Unions']\n",
      " ['The surrogates: Trump’s strategy for campaigning from court']\n",
      " ['Abortion rights at heart of Democrats’ 2024 US election campaign']\n",
      " [\"Trump campaign aide told police officers to 'go hang yourself' at Jan. 6 riot\"]\n",
      " ['Arizona GOP continues eating its own in defense of Kari Lake and MAGA mania']]\n"
     ]
    }
   ],
   "source": [
    "print(headlines[0:5])"
   ]
  },
  {
   "cell_type": "markdown",
   "metadata": {},
   "source": [
    "Initialize Sentiment Intensity Analyzer And Map It On Headlines"
   ]
  },
  {
   "cell_type": "code",
   "execution_count": 105,
   "metadata": {},
   "outputs": [
    {
     "name": "stdout",
     "output_type": "stream",
     "text": [
      "[{'neg': 0.0, 'neu': 0.781, 'pos': 0.219, 'compound': 0.4215, 'headline': 'Biden Appointees Just Made It Easier For Workers To Form Unions'}, {'neg': 0.0, 'neu': 1.0, 'pos': 0.0, 'compound': 0.0, 'headline': 'The surrogates: Trump’s strategy for campaigning from court'}, {'neg': 0.0, 'neu': 1.0, 'pos': 0.0, 'compound': 0.0, 'headline': 'Abortion rights at heart of Democrats’ 2024 US election campaign'}]\n"
     ]
    }
   ],
   "source": [
    "sia = SIA()\n",
    "results = []\n",
    "\n",
    "for line in headlines:\n",
    "    pol_score = sia.polarity_scores(line[0])\n",
    "    pol_score['headline'] = line[0]\n",
    "    results.append(pol_score)\n",
    "\n",
    "print(results[:3])"
   ]
  },
  {
   "cell_type": "markdown",
   "metadata": {},
   "source": [
    "Store Results In Dataframe"
   ]
  },
  {
   "cell_type": "code",
   "execution_count": 106,
   "metadata": {},
   "outputs": [
    {
     "data": {
      "text/html": [
       "<div>\n",
       "<style scoped>\n",
       "    .dataframe tbody tr th:only-of-type {\n",
       "        vertical-align: middle;\n",
       "    }\n",
       "\n",
       "    .dataframe tbody tr th {\n",
       "        vertical-align: top;\n",
       "    }\n",
       "\n",
       "    .dataframe thead th {\n",
       "        text-align: right;\n",
       "    }\n",
       "</style>\n",
       "<table border=\"1\" class=\"dataframe\">\n",
       "  <thead>\n",
       "    <tr style=\"text-align: right;\">\n",
       "      <th></th>\n",
       "      <th>neg</th>\n",
       "      <th>neu</th>\n",
       "      <th>pos</th>\n",
       "      <th>compound</th>\n",
       "      <th>headline</th>\n",
       "    </tr>\n",
       "  </thead>\n",
       "  <tbody>\n",
       "    <tr>\n",
       "      <th>0</th>\n",
       "      <td>0.000</td>\n",
       "      <td>0.781</td>\n",
       "      <td>0.219</td>\n",
       "      <td>0.4215</td>\n",
       "      <td>Biden Appointees Just Made It Easier For Worke...</td>\n",
       "    </tr>\n",
       "    <tr>\n",
       "      <th>1</th>\n",
       "      <td>0.000</td>\n",
       "      <td>1.000</td>\n",
       "      <td>0.000</td>\n",
       "      <td>0.0000</td>\n",
       "      <td>The surrogates: Trump’s strategy for campaigni...</td>\n",
       "    </tr>\n",
       "    <tr>\n",
       "      <th>2</th>\n",
       "      <td>0.000</td>\n",
       "      <td>1.000</td>\n",
       "      <td>0.000</td>\n",
       "      <td>0.0000</td>\n",
       "      <td>Abortion rights at heart of Democrats’ 2024 US...</td>\n",
       "    </tr>\n",
       "    <tr>\n",
       "      <th>3</th>\n",
       "      <td>0.231</td>\n",
       "      <td>0.769</td>\n",
       "      <td>0.000</td>\n",
       "      <td>-0.5574</td>\n",
       "      <td>Trump campaign aide told police officers to 'g...</td>\n",
       "    </tr>\n",
       "    <tr>\n",
       "      <th>4</th>\n",
       "      <td>0.000</td>\n",
       "      <td>0.897</td>\n",
       "      <td>0.103</td>\n",
       "      <td>0.1280</td>\n",
       "      <td>Arizona GOP continues eating its own in defens...</td>\n",
       "    </tr>\n",
       "  </tbody>\n",
       "</table>\n",
       "</div>"
      ],
      "text/plain": [
       "     neg    neu    pos  compound  \\\n",
       "0  0.000  0.781  0.219    0.4215   \n",
       "1  0.000  1.000  0.000    0.0000   \n",
       "2  0.000  1.000  0.000    0.0000   \n",
       "3  0.231  0.769  0.000   -0.5574   \n",
       "4  0.000  0.897  0.103    0.1280   \n",
       "\n",
       "                                            headline  \n",
       "0  Biden Appointees Just Made It Easier For Worke...  \n",
       "1  The surrogates: Trump’s strategy for campaigni...  \n",
       "2  Abortion rights at heart of Democrats’ 2024 US...  \n",
       "3  Trump campaign aide told police officers to 'g...  \n",
       "4  Arizona GOP continues eating its own in defens...  "
      ]
     },
     "execution_count": 106,
     "metadata": {},
     "output_type": "execute_result"
    }
   ],
   "source": [
    "df = pd.DataFrame.from_records(results)\n",
    "df.head()"
   ]
  },
  {
   "cell_type": "markdown",
   "metadata": {},
   "source": [
    "Labeling The Headlines Through Threshold Conditionals"
   ]
  },
  {
   "cell_type": "code",
   "execution_count": 107,
   "metadata": {},
   "outputs": [
    {
     "data": {
      "text/html": [
       "<div>\n",
       "<style scoped>\n",
       "    .dataframe tbody tr th:only-of-type {\n",
       "        vertical-align: middle;\n",
       "    }\n",
       "\n",
       "    .dataframe tbody tr th {\n",
       "        vertical-align: top;\n",
       "    }\n",
       "\n",
       "    .dataframe thead th {\n",
       "        text-align: right;\n",
       "    }\n",
       "</style>\n",
       "<table border=\"1\" class=\"dataframe\">\n",
       "  <thead>\n",
       "    <tr style=\"text-align: right;\">\n",
       "      <th></th>\n",
       "      <th>neg</th>\n",
       "      <th>neu</th>\n",
       "      <th>pos</th>\n",
       "      <th>compound</th>\n",
       "      <th>headline</th>\n",
       "      <th>label</th>\n",
       "    </tr>\n",
       "  </thead>\n",
       "  <tbody>\n",
       "    <tr>\n",
       "      <th>0</th>\n",
       "      <td>0.000</td>\n",
       "      <td>0.781</td>\n",
       "      <td>0.219</td>\n",
       "      <td>0.4215</td>\n",
       "      <td>Biden Appointees Just Made It Easier For Worke...</td>\n",
       "      <td>1</td>\n",
       "    </tr>\n",
       "    <tr>\n",
       "      <th>1</th>\n",
       "      <td>0.000</td>\n",
       "      <td>1.000</td>\n",
       "      <td>0.000</td>\n",
       "      <td>0.0000</td>\n",
       "      <td>The surrogates: Trump’s strategy for campaigni...</td>\n",
       "      <td>0</td>\n",
       "    </tr>\n",
       "    <tr>\n",
       "      <th>2</th>\n",
       "      <td>0.000</td>\n",
       "      <td>1.000</td>\n",
       "      <td>0.000</td>\n",
       "      <td>0.0000</td>\n",
       "      <td>Abortion rights at heart of Democrats’ 2024 US...</td>\n",
       "      <td>0</td>\n",
       "    </tr>\n",
       "    <tr>\n",
       "      <th>3</th>\n",
       "      <td>0.231</td>\n",
       "      <td>0.769</td>\n",
       "      <td>0.000</td>\n",
       "      <td>-0.5574</td>\n",
       "      <td>Trump campaign aide told police officers to 'g...</td>\n",
       "      <td>-1</td>\n",
       "    </tr>\n",
       "    <tr>\n",
       "      <th>4</th>\n",
       "      <td>0.000</td>\n",
       "      <td>0.897</td>\n",
       "      <td>0.103</td>\n",
       "      <td>0.1280</td>\n",
       "      <td>Arizona GOP continues eating its own in defens...</td>\n",
       "      <td>0</td>\n",
       "    </tr>\n",
       "  </tbody>\n",
       "</table>\n",
       "</div>"
      ],
      "text/plain": [
       "     neg    neu    pos  compound  \\\n",
       "0  0.000  0.781  0.219    0.4215   \n",
       "1  0.000  1.000  0.000    0.0000   \n",
       "2  0.000  1.000  0.000    0.0000   \n",
       "3  0.231  0.769  0.000   -0.5574   \n",
       "4  0.000  0.897  0.103    0.1280   \n",
       "\n",
       "                                            headline  label  \n",
       "0  Biden Appointees Just Made It Easier For Worke...      1  \n",
       "1  The surrogates: Trump’s strategy for campaigni...      0  \n",
       "2  Abortion rights at heart of Democrats’ 2024 US...      0  \n",
       "3  Trump campaign aide told police officers to 'g...     -1  \n",
       "4  Arizona GOP continues eating its own in defens...      0  "
      ]
     },
     "execution_count": 107,
     "metadata": {},
     "output_type": "execute_result"
    }
   ],
   "source": [
    "df['label'] = 0\n",
    "df.loc[df['compound'] > 0.2, 'label'] = 1\n",
    "df.loc[df['compound'] < -0.2, 'label'] = -1\n",
    "df.head()"
   ]
  },
  {
   "cell_type": "markdown",
   "metadata": {},
   "source": [
    "Saving The Labeled Dataframe In CSV File"
   ]
  },
  {
   "cell_type": "code",
   "execution_count": 108,
   "metadata": {},
   "outputs": [],
   "source": [
    "df2 = df[['headline', 'label']]\n",
    "df2.to_csv('redditData/reddit_headlines_labels.csv', mode='a', encoding='utf-8', index=False)"
   ]
  },
  {
   "cell_type": "markdown",
   "metadata": {},
   "source": [
    "Final Results"
   ]
  },
  {
   "cell_type": "code",
   "execution_count": 109,
   "metadata": {},
   "outputs": [
    {
     "name": "stdout",
     "output_type": "stream",
     "text": [
      "Positive headlines:\n",
      "\n",
      "['Biden Appointees Just Made It Easier For Workers To Form Unions', 'Biden’s Bold Move on Drug Prices Gives GOP Two Choices: Change the Subject, or Lie', 'In the abortion debate, honesty matters', 'Why Biden and Trump need each other in order to win in 2024', '\"We call that kind of love a cult\": Experts on the latest disturbing poll of Trump supporters - New poll reveals that members of the MAGA cult trust Trump most: He \"provides the kind of love they crave\"']\n",
      "\n",
      "Negative headlines:\n",
      "\n",
      "[\"Trump campaign aide told police officers to 'go hang yourself' at Jan. 6 riot\", '187,000 jobs added in August as unemployment rises to 3.8%', 'Ted Cruz Might Be the Most Gullible Person on the Internet', 'President Biden has beaten Big Pharma with drug price negotiations: White House', 'Biden is widely seen as too old for office, an AP-NORC poll finds. Trump has problems of his own']\n"
     ]
    }
   ],
   "source": [
    "print(\"Positive headlines:\\n\")\n",
    "print(list(df[df['label'] == 1].headline)[:5])\n",
    "\n",
    "print(\"\\nNegative headlines:\\n\")\n",
    "print(list(df[df['label'] == -1].headline)[:5])"
   ]
  },
  {
   "cell_type": "code",
   "execution_count": 110,
   "metadata": {},
   "outputs": [
    {
     "name": "stdout",
     "output_type": "stream",
     "text": [
      "Actual Values\n",
      " 0    414\n",
      "-1    307\n",
      " 1    194\n",
      "Name: label, dtype: int64\n",
      "\n",
      "Percentage Values\n",
      " 0    45.245902\n",
      "-1    33.551913\n",
      " 1    21.202186\n",
      "Name: label, dtype: float64\n"
     ]
    }
   ],
   "source": [
    "print('Actual Values')\n",
    "print(df.label.value_counts(), end='\\n\\n')\n",
    "\n",
    "print('Percentage Values')\n",
    "print(df.label.value_counts(normalize=True) * 100)"
   ]
  },
  {
   "cell_type": "markdown",
   "metadata": {},
   "source": [
    "Visualizing The Results"
   ]
  },
  {
   "cell_type": "code",
   "execution_count": 111,
   "metadata": {},
   "outputs": [
    {
     "data": {
      "image/png": "[encoded data removed]",
      "text/plain": [
       "<Figure size 800x800 with 1 Axes>"
      ]
     },
     "metadata": {},
     "output_type": "display_data"
    }
   ],
   "source": [
    "fig, ax = plt.subplots(figsize=(8, 8))\n",
    "\n",
    "counts = df.label.value_counts(normalize=True) * 100\n",
    "\n",
    "sns.barplot(x=counts.index, y=counts, ax=ax)\n",
    "\n",
    "ax.set_xticklabels(['Negative', 'Neutral', 'Positive'])\n",
    "ax.set_ylabel(\"Percentage\")\n",
    "plt.show()"
   ]
  }
 ],
 "metadata": {
  "kernelspec": {
   "display_name": "Python 3",
   "language": "python",
   "name": "python3"
  },
  "language_info": {
   "codemirror_mode": {
    "name": "ipython",
    "version": 3
   },
   "file_extension": ".py",
   "mimetype": "text/x-python",
   "name": "python",
   "nbconvert_exporter": "python",
   "pygments_lexer": "ipython3",
   "version": "3.11.5"
  },
  "orig_nbformat": 4
 },
 "nbformat": 4,
 "nbformat_minor": 2
}
