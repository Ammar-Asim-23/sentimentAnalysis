{
 "cells": [
  {
   "cell_type": "markdown",
   "metadata": {},
   "source": [
    "Import Necessary Modules"
   ]
  },
  {
   "cell_type": "code",
   "execution_count": 93,
   "metadata": {},
   "outputs": [],
   "source": [
    "import numpy as np\n",
    "import pandas as pd\n",
    "from nltk.sentiment.vader import SentimentIntensityAnalyzer as SIA\n",
    "import seaborn as sns\n",
    "import matplotlib.pyplot as plt\n",
    "%matplotlib inline\n"
   ]
  },
  {
   "cell_type": "markdown",
   "metadata": {},
   "source": [
    "Load The Headlines"
   ]
  },
  {
   "cell_type": "code",
   "execution_count": 76,
   "metadata": {},
   "outputs": [],
   "source": [
    "headlines = pd.read_csv('redditData/headlines.csv' , index_col=None).to_numpy()"
   ]
  },
  {
   "cell_type": "code",
   "execution_count": 100,
   "metadata": {},
   "outputs": [
    {
     "name": "stdout",
     "output_type": "stream",
     "text": [
      "[['New filings reveal more luxury trips and opaque payments to Clarence Thomas’ wife, Ginni']\n",
      " ['Rural Washington library could be nation’s first to dissolve after book challenges, reshelving requests']\n",
      " ['Virginia’s ‘Moderate’ GOP Governor Is Quietly Funding Anti-Choice Extremists']\n",
      " ['Blue Envelope Bill aims to help drivers with autism and police during traffic stops']\n",
      " ['If An Ailing Mitch McConnell Stepped Aside, His Replacement Would Be a Republican']]\n"
     ]
    }
   ],
   "source": [
    "print(headlines[0:5])"
   ]
  },
  {
   "cell_type": "markdown",
   "metadata": {},
   "source": [
    "Initialize Sentiment Intensity Analyzer And Map It On Headlines"
   ]
  },
  {
   "cell_type": "code",
   "execution_count": 81,
   "metadata": {},
   "outputs": [
    {
     "name": "stdout",
     "output_type": "stream",
     "text": [
      "[{'neg': 0.0, 'neu': 1.0, 'pos': 0.0, 'compound': 0.0, 'headline': 'New filings reveal more luxury trips and opaque payments to Clarence Thomas’ wife, Ginni'}, {'neg': 0.0, 'neu': 0.909, 'pos': 0.091, 'compound': 0.0772, 'headline': 'Rural Washington library could be nation’s first to dissolve after book challenges, reshelving requests'}, {'neg': 0.0, 'neu': 1.0, 'pos': 0.0, 'compound': 0.0, 'headline': 'Virginia’s ‘Moderate’ GOP Governor Is Quietly Funding Anti-Choice Extremists'}]\n"
     ]
    }
   ],
   "source": [
    "sia = SIA()\n",
    "results = []\n",
    "\n",
    "for line in headlines:\n",
    "    pol_score = sia.polarity_scores(line[0])\n",
    "    pol_score['headline'] = line[0]\n",
    "    results.append(pol_score)\n",
    "\n",
    "print(results[:3])"
   ]
  },
  {
   "cell_type": "markdown",
   "metadata": {},
   "source": [
    "Store Results In Dataframe"
   ]
  },
  {
   "cell_type": "code",
   "execution_count": 82,
   "metadata": {},
   "outputs": [
    {
     "data": {
      "text/html": [
       "<div>\n",
       "<style scoped>\n",
       "    .dataframe tbody tr th:only-of-type {\n",
       "        vertical-align: middle;\n",
       "    }\n",
       "\n",
       "    .dataframe tbody tr th {\n",
       "        vertical-align: top;\n",
       "    }\n",
       "\n",
       "    .dataframe thead th {\n",
       "        text-align: right;\n",
       "    }\n",
       "</style>\n",
       "<table border=\"1\" class=\"dataframe\">\n",
       "  <thead>\n",
       "    <tr style=\"text-align: right;\">\n",
       "      <th></th>\n",
       "      <th>neg</th>\n",
       "      <th>neu</th>\n",
       "      <th>pos</th>\n",
       "      <th>compound</th>\n",
       "      <th>headline</th>\n",
       "    </tr>\n",
       "  </thead>\n",
       "  <tbody>\n",
       "    <tr>\n",
       "      <th>0</th>\n",
       "      <td>0.000</td>\n",
       "      <td>1.000</td>\n",
       "      <td>0.000</td>\n",
       "      <td>0.0000</td>\n",
       "      <td>New filings reveal more luxury trips and opaqu...</td>\n",
       "    </tr>\n",
       "    <tr>\n",
       "      <th>1</th>\n",
       "      <td>0.000</td>\n",
       "      <td>0.909</td>\n",
       "      <td>0.091</td>\n",
       "      <td>0.0772</td>\n",
       "      <td>Rural Washington library could be nation’s fir...</td>\n",
       "    </tr>\n",
       "    <tr>\n",
       "      <th>2</th>\n",
       "      <td>0.000</td>\n",
       "      <td>1.000</td>\n",
       "      <td>0.000</td>\n",
       "      <td>0.0000</td>\n",
       "      <td>Virginia’s ‘Moderate’ GOP Governor Is Quietly ...</td>\n",
       "    </tr>\n",
       "    <tr>\n",
       "      <th>3</th>\n",
       "      <td>0.098</td>\n",
       "      <td>0.736</td>\n",
       "      <td>0.166</td>\n",
       "      <td>0.2732</td>\n",
       "      <td>Blue Envelope Bill aims to help drivers with a...</td>\n",
       "    </tr>\n",
       "    <tr>\n",
       "      <th>4</th>\n",
       "      <td>0.000</td>\n",
       "      <td>1.000</td>\n",
       "      <td>0.000</td>\n",
       "      <td>0.0000</td>\n",
       "      <td>If An Ailing Mitch McConnell Stepped Aside, Hi...</td>\n",
       "    </tr>\n",
       "  </tbody>\n",
       "</table>\n",
       "</div>"
      ],
      "text/plain": [
       "     neg    neu    pos  compound  \\\n",
       "0  0.000  1.000  0.000    0.0000   \n",
       "1  0.000  0.909  0.091    0.0772   \n",
       "2  0.000  1.000  0.000    0.0000   \n",
       "3  0.098  0.736  0.166    0.2732   \n",
       "4  0.000  1.000  0.000    0.0000   \n",
       "\n",
       "                                            headline  \n",
       "0  New filings reveal more luxury trips and opaqu...  \n",
       "1  Rural Washington library could be nation’s fir...  \n",
       "2  Virginia’s ‘Moderate’ GOP Governor Is Quietly ...  \n",
       "3  Blue Envelope Bill aims to help drivers with a...  \n",
       "4  If An Ailing Mitch McConnell Stepped Aside, Hi...  "
      ]
     },
     "execution_count": 82,
     "metadata": {},
     "output_type": "execute_result"
    }
   ],
   "source": [
    "df = pd.DataFrame.from_records(results)\n",
    "df.head()"
   ]
  },
  {
   "cell_type": "markdown",
   "metadata": {},
   "source": [
    "Labeling The Headlines Through Threshold Conditionals"
   ]
  },
  {
   "cell_type": "code",
   "execution_count": 83,
   "metadata": {},
   "outputs": [
    {
     "data": {
      "text/html": [
       "<div>\n",
       "<style scoped>\n",
       "    .dataframe tbody tr th:only-of-type {\n",
       "        vertical-align: middle;\n",
       "    }\n",
       "\n",
       "    .dataframe tbody tr th {\n",
       "        vertical-align: top;\n",
       "    }\n",
       "\n",
       "    .dataframe thead th {\n",
       "        text-align: right;\n",
       "    }\n",
       "</style>\n",
       "<table border=\"1\" class=\"dataframe\">\n",
       "  <thead>\n",
       "    <tr style=\"text-align: right;\">\n",
       "      <th></th>\n",
       "      <th>neg</th>\n",
       "      <th>neu</th>\n",
       "      <th>pos</th>\n",
       "      <th>compound</th>\n",
       "      <th>headline</th>\n",
       "      <th>label</th>\n",
       "    </tr>\n",
       "  </thead>\n",
       "  <tbody>\n",
       "    <tr>\n",
       "      <th>0</th>\n",
       "      <td>0.000</td>\n",
       "      <td>1.000</td>\n",
       "      <td>0.000</td>\n",
       "      <td>0.0000</td>\n",
       "      <td>New filings reveal more luxury trips and opaqu...</td>\n",
       "      <td>0</td>\n",
       "    </tr>\n",
       "    <tr>\n",
       "      <th>1</th>\n",
       "      <td>0.000</td>\n",
       "      <td>0.909</td>\n",
       "      <td>0.091</td>\n",
       "      <td>0.0772</td>\n",
       "      <td>Rural Washington library could be nation’s fir...</td>\n",
       "      <td>0</td>\n",
       "    </tr>\n",
       "    <tr>\n",
       "      <th>2</th>\n",
       "      <td>0.000</td>\n",
       "      <td>1.000</td>\n",
       "      <td>0.000</td>\n",
       "      <td>0.0000</td>\n",
       "      <td>Virginia’s ‘Moderate’ GOP Governor Is Quietly ...</td>\n",
       "      <td>0</td>\n",
       "    </tr>\n",
       "    <tr>\n",
       "      <th>3</th>\n",
       "      <td>0.098</td>\n",
       "      <td>0.736</td>\n",
       "      <td>0.166</td>\n",
       "      <td>0.2732</td>\n",
       "      <td>Blue Envelope Bill aims to help drivers with a...</td>\n",
       "      <td>1</td>\n",
       "    </tr>\n",
       "    <tr>\n",
       "      <th>4</th>\n",
       "      <td>0.000</td>\n",
       "      <td>1.000</td>\n",
       "      <td>0.000</td>\n",
       "      <td>0.0000</td>\n",
       "      <td>If An Ailing Mitch McConnell Stepped Aside, Hi...</td>\n",
       "      <td>0</td>\n",
       "    </tr>\n",
       "  </tbody>\n",
       "</table>\n",
       "</div>"
      ],
      "text/plain": [
       "     neg    neu    pos  compound  \\\n",
       "0  0.000  1.000  0.000    0.0000   \n",
       "1  0.000  0.909  0.091    0.0772   \n",
       "2  0.000  1.000  0.000    0.0000   \n",
       "3  0.098  0.736  0.166    0.2732   \n",
       "4  0.000  1.000  0.000    0.0000   \n",
       "\n",
       "                                            headline  label  \n",
       "0  New filings reveal more luxury trips and opaqu...      0  \n",
       "1  Rural Washington library could be nation’s fir...      0  \n",
       "2  Virginia’s ‘Moderate’ GOP Governor Is Quietly ...      0  \n",
       "3  Blue Envelope Bill aims to help drivers with a...      1  \n",
       "4  If An Ailing Mitch McConnell Stepped Aside, Hi...      0  "
      ]
     },
     "execution_count": 83,
     "metadata": {},
     "output_type": "execute_result"
    }
   ],
   "source": [
    "df['label'] = 0\n",
    "df.loc[df['compound'] > 0.2, 'label'] = 1\n",
    "df.loc[df['compound'] < -0.2, 'label'] = -1\n",
    "df.head()"
   ]
  },
  {
   "cell_type": "markdown",
   "metadata": {},
   "source": [
    "Saving The Labeled Dataframe In CSV File"
   ]
  },
  {
   "cell_type": "code",
   "execution_count": 85,
   "metadata": {},
   "outputs": [],
   "source": [
    "df2 = df[['headline', 'label']]\n",
    "df2.to_csv('redditData/reddit_headlines_labels.csv', mode='a', encoding='utf-8', index=False)"
   ]
  },
  {
   "cell_type": "markdown",
   "metadata": {},
   "source": [
    "Final Results"
   ]
  },
  {
   "cell_type": "code",
   "execution_count": 86,
   "metadata": {},
   "outputs": [
    {
     "name": "stdout",
     "output_type": "stream",
     "text": [
      "Positive headlines:\n",
      "\n",
      "['Blue Envelope Bill aims to help drivers with autism and police during traffic stops', 'The Press Should Take Its Bullhorn From Trump and Hand It to His Civil Society Critics', 'Trump lawyer says ex-president doesn\\'t need trial prep: He is \"incredibly intelligent\"', 'Consistent Signs of Erosion in Black and Hispanic Support for Biden - It’s a weakness that could manifest itself as low Democratic turnout even if Trump and Republicans don’t gain among those groups.', 'Florida and Texas universities excluded from list of LGBTQ+ friendly schools']\n",
      "\n",
      "Negative headlines:\n",
      "\n",
      "['U.S. reminds migrants to apply for work permits following pressure from city officials', \"NC congressman introduces 'Stop Pot Act' to curb recreational marijuana legalization\", \"Peoria council points to sex offender at vice mayor's house as grounds for resignation\", 'DeSantis Rejected $350 Million in Climate Funding Before Hurricane Idalia: The Florida governor rejected millions in climate funding. Now, his state is suffering from a storm fueled by climate change.', \"Rep. Marjorie Taylor Greene Says Mitch McConnell Is Not 'Fit For Office'\"]\n"
     ]
    }
   ],
   "source": [
    "print(\"Positive headlines:\\n\")\n",
    "print(list(df[df['label'] == 1].headline)[:5])\n",
    "\n",
    "print(\"\\nNegative headlines:\\n\")\n",
    "print(list(df[df['label'] == -1].headline)[:5])"
   ]
  },
  {
   "cell_type": "code",
   "execution_count": 90,
   "metadata": {},
   "outputs": [
    {
     "name": "stdout",
     "output_type": "stream",
     "text": [
      "Actual Values\n",
      " 0    414\n",
      "-1    308\n",
      " 1    194\n",
      "Name: label, dtype: int64\n",
      "\n",
      "Percentage Values\n",
      " 0    45.196507\n",
      "-1    33.624454\n",
      " 1    21.179039\n",
      "Name: label, dtype: float64\n"
     ]
    }
   ],
   "source": [
    "print('Actual Values')\n",
    "print(df.label.value_counts(), end='\\n\\n')\n",
    "\n",
    "print('Percentage Values')\n",
    "print(df.label.value_counts(normalize=True) * 100)"
   ]
  },
  {
   "cell_type": "markdown",
   "metadata": {},
   "source": [
    "Visualizing The Results"
   ]
  },
  {
   "cell_type": "code",
   "execution_count": 99,
   "metadata": {},
   "outputs": [
    {
     "data": {
      "image/png": "[encoded data removed]",
      "text/plain": [
       "<Figure size 800x800 with 1 Axes>"
      ]
     },
     "metadata": {},
     "output_type": "display_data"
    }
   ],
   "source": [
    "fig, ax = plt.subplots(figsize=(8, 8))\n",
    "\n",
    "counts = df.label.value_counts(normalize=True) * 100\n",
    "\n",
    "sns.barplot(x=counts.index, y=counts, ax=ax)\n",
    "\n",
    "ax.set_xticklabels(['Negative', 'Neutral', 'Positive'])\n",
    "ax.set_ylabel(\"Percentage\")\n",
    "\n",
    "plt.show()"
   ]
  }
 ],
 "metadata": {
  "kernelspec": {
   "display_name": "Python 3",
   "language": "python",
   "name": "python3"
  },
  "language_info": {
   "codemirror_mode": {
    "name": "ipython",
    "version": 3
   },
   "file_extension": ".py",
   "mimetype": "text/x-python",
   "name": "python",
   "nbconvert_exporter": "python",
   "pygments_lexer": "ipython3",
   "version": "3.11.5"
  },
  "orig_nbformat": 4
 },
 "nbformat": 4,
 "nbformat_minor": 2
}
