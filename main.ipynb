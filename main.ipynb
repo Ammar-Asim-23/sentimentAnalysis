{
 "cells": [
  {
   "cell_type": "code",
   "execution_count": 3,
   "metadata": {},
   "outputs": [],
   "source": [
    "import pandas as pd\n",
    "import numpy as np\n",
    "from sklearn.model_selection import train_test_split\n",
    "from sklearn.feature_extraction.text import TfidfVectorizer\n",
    "from sklearn.linear_model import LogisticRegression\n",
    "from sklearn.metrics import accuracy_score, classification_report\n"
   ]
  },
  {
   "cell_type": "code",
   "execution_count": 4,
   "metadata": {},
   "outputs": [],
   "source": [
    "headlines = pd.read_csv('redditData/reddit_headlines_labels.csv', index_col=None).to_numpy()"
   ]
  },
  {
   "cell_type": "code",
   "execution_count": 5,
   "metadata": {},
   "outputs": [],
   "source": [
    "headlines_text = [i[0] for i in headlines]\n",
    "sentiments = [i[1] for i in headlines]"
   ]
  },
  {
   "cell_type": "code",
   "execution_count": 6,
   "metadata": {},
   "outputs": [
    {
     "name": "stdout",
     "output_type": "stream",
     "text": [
      "Accuracy: 0.9169078131459281\n",
      "              precision    recall  f1-score   support\n",
      "\n",
      "          -1       0.93      0.91      0.92       848\n",
      "           0       0.89      0.95      0.92      1031\n",
      "           1       0.96      0.87      0.91       540\n",
      "\n",
      "    accuracy                           0.92      2419\n",
      "   macro avg       0.93      0.91      0.92      2419\n",
      "weighted avg       0.92      0.92      0.92      2419\n",
      "\n"
     ]
    }
   ],
   "source": [
    "# Convert sentiments to numpy array\n",
    "sentiments = np.array(sentiments)\n",
    "\n",
    "# Split the data into training and testing sets\n",
    "X_train, X_test, y_train, y_test = train_test_split(headlines_text, sentiments, test_size=0.2, random_state=42)\n",
    "\n",
    "# Initialize TF-IDF vectorizer\n",
    "tfidf_vectorizer = TfidfVectorizer(max_features=5000)\n",
    "\n",
    "# Fit and transform the training data\n",
    "X_train_tfidf = tfidf_vectorizer.fit_transform(X_train)\n",
    "\n",
    "# Transform the testing data\n",
    "X_test_tfidf = tfidf_vectorizer.transform(X_test)\n",
    "\n",
    "# Initialize and train the Logistic Regression model\n",
    "model = LogisticRegression(max_iter=10000)\n",
    "model.fit(X_train_tfidf, y_train)\n",
    "\n",
    "# Make predictions on the test data\n",
    "y_pred = model.predict(X_test_tfidf)\n",
    "\n",
    "# Evaluate the model\n",
    "accuracy = accuracy_score(y_test, y_pred)\n",
    "print(\"Accuracy:\", accuracy)\n",
    "\n",
    "# Print classification report for more details\n",
    "print(classification_report(y_test, y_pred))\n"
   ]
  },
  {
   "cell_type": "code",
   "execution_count": 7,
   "metadata": {},
   "outputs": [
    {
     "data": {
      "text/plain": [
       "['models/logistic_regression_model.pkl']"
      ]
     },
     "execution_count": 7,
     "metadata": {},
     "output_type": "execute_result"
    }
   ],
   "source": [
    "# import joblib\n",
    "# joblib.dump(model, 'models/logistic_regression_model.pkl')"
   ]
  },
  {
   "cell_type": "code",
   "execution_count": 8,
   "metadata": {},
   "outputs": [
    {
     "name": "stdout",
     "output_type": "stream",
     "text": [
      "Predicted LR: ['0']\n",
      "Real: 0\n",
      "  (0, 4948)\t0.2283033265272085\n",
      "  (0, 4840)\t0.19087942850680567\n",
      "  (0, 4605)\t0.22082686847204147\n",
      "  (0, 4488)\t0.07639499253327982\n",
      "  (0, 4421)\t0.2062852784286666\n",
      "  (0, 4419)\t0.27461268921508636\n",
      "  (0, 3367)\t0.23974973241600633\n",
      "  (0, 3006)\t0.26223609168772066\n",
      "  (0, 2817)\t0.22037648350223843\n",
      "  (0, 1879)\t0.24797393194516415\n",
      "  (0, 1807)\t0.17291108813247658\n",
      "  (0, 1565)\t0.2806012339201133\n",
      "  (0, 1341)\t0.28513676133208016\n",
      "  (0, 632)\t0.15555377797548828\n",
      "  (0, 603)\t0.29956526032223874\n",
      "  (0, 473)\t0.3072925823001021\n",
      "  (0, 297)\t0.32290602019607995\n"
     ]
    }
   ],
   "source": [
    "import random\n",
    "k=random.randint(0,len(X_test)-1)\n",
    "print('Predicted LR:', model.predict(X_test_tfidf[k]) )\n",
    "print('Real:', y_test[k] )\n",
    "print(X_test_tfidf[k])"
   ]
  },
  {
   "cell_type": "code",
   "execution_count": 12,
   "metadata": {},
   "outputs": [
    {
     "name": "stdout",
     "output_type": "stream",
     "text": [
      "['0']\n"
     ]
    }
   ],
   "source": [
    "headline = \"New filings reveal more luxury trips and opaque payments to Clarence Thomas’ wife, Ginni\"\n",
    "#Ensure the input data is in the correct shape (2D array)\n",
    "headline = tfidf_vectorizer.transform(np.array([headline]))\n",
    "# Perform prediction using your model\n",
    "prediction = model.predict(headline)\n",
    "print(prediction[0])"
   ]
  },
  {
   "cell_type": "code",
   "execution_count": 10,
   "metadata": {},
   "outputs": [
    {
     "data": {
      "text/plain": [
       "['models/tfidf_vectorizer.pkl']"
      ]
     },
     "execution_count": 10,
     "metadata": {},
     "output_type": "execute_result"
    }
   ],
   "source": [
    "# joblib.dump(tfidf_vectorizer, 'models/tfidf_vectorizer.pkl')"
   ]
  }
 ],
 "metadata": {
  "kernelspec": {
   "display_name": "Python 3",
   "language": "python",
   "name": "python3"
  },
  "language_info": {
   "codemirror_mode": {
    "name": "ipython",
    "version": 3
   },
   "file_extension": ".py",
   "mimetype": "text/x-python",
   "name": "python",
   "nbconvert_exporter": "python",
   "pygments_lexer": "ipython3",
   "version": "3.11.5"
  },
  "orig_nbformat": 4
 },
 "nbformat": 4,
 "nbformat_minor": 2
}
